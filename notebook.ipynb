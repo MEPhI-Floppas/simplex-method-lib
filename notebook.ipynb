{
 "cells": [
  {
   "cell_type": "code",
   "execution_count": 1,
   "metadata": {
    "collapsed": true
   },
   "outputs": [],
   "source": [
    "from simplex import simplex\n",
    "from sympy import *\n",
    "init_printing()"
   ]
  },
  {
   "cell_type": "code",
   "execution_count": 2,
   "outputs": [
    {
     "name": "stdout",
     "output_type": "stream",
     "text": [
      "[4, 2, 3]\n",
      "[2, 10, 0]\n",
      "[1, 6, 6]\n",
      "[8, 0, 1]\n",
      "[1, 0, 0]\n",
      "[0, 1, 0]\n",
      "[0, 0, 1]\n",
      "Базисные векторы:  [5, 6, 7]\n",
      "Опорное решение: [0, 0, 0, 0, 1200, 600, 1500]\n"
     ]
    },
    {
     "data": {
      "text/plain": "⎡Базис  C_баз   A₀   A₁  A₂  A₃  A₄  A₅  A₆  A₇⎤\n⎢                                              ⎥\n⎢ A₅      0    1200  4   2   1   8   1   0   0 ⎥\n⎢                                              ⎥\n⎢ A₆      0    600   2   10  6   0   0   1   0 ⎥\n⎢                                              ⎥\n⎢ A₇      0    1500  3   0   6   1   0   0   1 ⎥\n⎢                                              ⎥\n⎣  ㅤ      ㅤ     0    15  6   12  24  0   0   0 ⎦",
      "text/latex": "$\\displaystyle \\left[\\begin{matrix}Базис & C_{баз} & A_{0} & A_{1} & A_{2} & A_{3} & A_{4} & A_{5} & A_{6} & A_{7}\\\\A_{5} & 0 & 1200 & 4 & 2 & 1 & 8 & 1 & 0 & 0\\\\A_{6} & 0 & 600 & 2 & 10 & 6 & 0 & 0 & 1 & 0\\\\A_{7} & 0 & 1500 & 3 & 0 & 6 & 1 & 0 & 0 & 1\\\\ㅤ & ㅤ & 0 & 15 & 6 & 12 & 24 & 0 & 0 & 0\\end{matrix}\\right]$"
     },
     "metadata": {},
     "output_type": "display_data"
    },
    {
     "ename": "ValueError",
     "evalue": "invalid literal for int() with base 10: ''",
     "output_type": "error",
     "traceback": [
      "\u001B[1;31m---------------------------------------------------------------------------\u001B[0m",
      "\u001B[1;31mValueError\u001B[0m                                Traceback (most recent call last)",
      "Cell \u001B[1;32mIn [2], line 7\u001B[0m\n\u001B[0;32m      2\u001B[0m A \u001B[38;5;241m=\u001B[39m Matrix([[\u001B[38;5;241m1200\u001B[39m, \u001B[38;5;241m4\u001B[39m, \u001B[38;5;241m2\u001B[39m, \u001B[38;5;241m1\u001B[39m, \u001B[38;5;241m8\u001B[39m, \u001B[38;5;241m1\u001B[39m, \u001B[38;5;241m0\u001B[39m, \u001B[38;5;241m0\u001B[39m],\n\u001B[0;32m      3\u001B[0m             [\u001B[38;5;241m600\u001B[39m, \u001B[38;5;241m2\u001B[39m, \u001B[38;5;241m10\u001B[39m, \u001B[38;5;241m6\u001B[39m, \u001B[38;5;241m0\u001B[39m, \u001B[38;5;241m0\u001B[39m, \u001B[38;5;241m1\u001B[39m, \u001B[38;5;241m0\u001B[39m],\n\u001B[0;32m      4\u001B[0m             [\u001B[38;5;241m1500\u001B[39m, \u001B[38;5;241m3\u001B[39m, \u001B[38;5;241m0\u001B[39m, \u001B[38;5;241m6\u001B[39m, \u001B[38;5;241m1\u001B[39m, \u001B[38;5;241m0\u001B[39m, \u001B[38;5;241m0\u001B[39m, \u001B[38;5;241m1\u001B[39m]])\n\u001B[0;32m      6\u001B[0m names \u001B[38;5;241m=\u001B[39m [\u001B[38;5;124mf\u001B[39m\u001B[38;5;124m'\u001B[39m\u001B[38;5;124mA\u001B[39m\u001B[38;5;132;01m{\u001B[39;00mi\u001B[38;5;132;01m}\u001B[39;00m\u001B[38;5;124m'\u001B[39m \u001B[38;5;28;01mfor\u001B[39;00m i \u001B[38;5;129;01min\u001B[39;00m \u001B[38;5;28mrange\u001B[39m(c\u001B[38;5;241m.\u001B[39mshape[\u001B[38;5;241m1\u001B[39m])]\n\u001B[1;32m----> 7\u001B[0m \u001B[43msimplex\u001B[49m\u001B[43m(\u001B[49m\u001B[43mA\u001B[49m\u001B[43m,\u001B[49m\u001B[43m \u001B[49m\u001B[43mc\u001B[49m\u001B[43m,\u001B[49m\u001B[43m \u001B[49m\u001B[43mnames\u001B[49m\u001B[43m)\u001B[49m\n",
      "File \u001B[1;32m~\\Desktop\\Daily\\simplex-method-lib\\simplex.py:61\u001B[0m, in \u001B[0;36msimplex\u001B[1;34m(A, coeffs, names)\u001B[0m\n\u001B[0;32m     58\u001B[0m \u001B[38;5;28;01mif\u001B[39;00m unlimited:\n\u001B[0;32m     59\u001B[0m     \u001B[38;5;28;01mbreak\u001B[39;00m\n\u001B[1;32m---> 61\u001B[0m j_cur \u001B[38;5;241m=\u001B[39m \u001B[38;5;28;43mint\u001B[39;49m\u001B[43m(\u001B[49m\u001B[38;5;28;43minput\u001B[39;49m\u001B[43m(\u001B[49m\u001B[38;5;124;43m\"\u001B[39;49m\u001B[38;5;124;43mукажите номер столбца, вводимого в базис: \u001B[39;49m\u001B[38;5;124;43m\"\u001B[39;49m\u001B[43m)\u001B[49m\u001B[43m)\u001B[49m\n\u001B[0;32m     62\u001B[0m i_cur \u001B[38;5;241m=\u001B[39m \u001B[38;5;28mint\u001B[39m(\u001B[38;5;28minput\u001B[39m(\u001B[38;5;124m\"\u001B[39m\u001B[38;5;124mукажите номер строки с удаляемым из базиса вектором: \u001B[39m\u001B[38;5;124m\"\u001B[39m))\n\u001B[0;32m     63\u001B[0m A_pivot \u001B[38;5;241m=\u001B[39m A[i_cur, j_cur]  \u001B[38;5;66;03m# ведущий элемент\u001B[39;00m\n",
      "\u001B[1;31mValueError\u001B[0m: invalid literal for int() with base 10: ''"
     ]
    }
   ],
   "source": [
    "c = Matrix([[0, 15, 6, 12, 24, 0, 0, 0]])\n",
    "A = Matrix([[1200, 4, 2, 1, 8, 1, 0, 0],\n",
    "            [600, 2, 10, 6, 0, 0, 1, 0],\n",
    "            [1500, 3, 0, 6, 1, 0, 0, 1]])\n",
    "\n",
    "names = [f'A{i}' for i in range(c.shape[1])]\n",
    "simplex(A, c, names)\n"
   ],
   "metadata": {
    "collapsed": false,
    "pycharm": {
     "name": "#%%\n"
    }
   }
  }
 ],
 "metadata": {
  "kernelspec": {
   "display_name": "Python 3",
   "language": "python",
   "name": "python3"
  },
  "language_info": {
   "codemirror_mode": {
    "name": "ipython",
    "version": 2
   },
   "file_extension": ".py",
   "mimetype": "text/x-python",
   "name": "python",
   "nbconvert_exporter": "python",
   "pygments_lexer": "ipython2",
   "version": "2.7.6"
  }
 },
 "nbformat": 4,
 "nbformat_minor": 0
}